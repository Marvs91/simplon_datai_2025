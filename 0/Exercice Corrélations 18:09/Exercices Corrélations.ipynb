{
 "cells": [
  {
   "cell_type": "markdown",
   "metadata": {},
   "source": [
    "Mesurer la corrélation entre two random set"
   ]
  },
  {
   "cell_type": "code",
   "execution_count": 27,
   "metadata": {},
   "outputs": [
    {
     "name": "stdout",
     "output_type": "stream",
     "text": [
      "Coefficient de corrélation de Pearson entre X et Y [[1.         0.01468568]\n",
      " [0.01468568 1.        ]]\n"
     ]
    }
   ],
   "source": [
    "import numpy as np\n",
    "\n",
    "# Deux ensembles de données aléatoires\n",
    "X = np.random.rand(100)  # 100 valeurs aléatoires pour X\n",
    "Y = np.random.rand(100)  # 100 valeurs aléatoires pour Y\n",
    "dataset = np.array([X, Y])\n",
    "# Calculer le coefficient de corrélation de Pearson\n",
    "correlation_coefficient = np.corrcoef(dataset)\n",
    "\n",
    "# Afficher le résultat \n",
    "print(\"Coefficient de corrélation de Pearson entre X et Y\", correlation_coefficient)\n"
   ]
  },
  {
   "cell_type": "markdown",
   "metadata": {},
   "source": [
    "Mesurer la corrélation entre un cosinus et une variable sinus "
   ]
  },
  {
   "cell_type": "code",
   "execution_count": 24,
   "metadata": {},
   "outputs": [
    {
     "name": "stdout",
     "output_type": "stream",
     "text": [
      "Coefficient de corrélation de Pearson entre cosinus et sinus : 8.007851111270924e-18\n"
     ]
    }
   ],
   "source": [
    "import numpy as np\n",
    "\n",
    "# Générer des données pour un cosinus et un sinus\n",
    "x = np.linspace(0, 2 * np.pi, 100)  # 100 points entre 0 et 2*pi (une période)\n",
    "cos_valeurs = np.cos(x)           # les valeurs du cosinus\n",
    "sin_valeurs = np.sin(x)             # les valeurs du sinus\n",
    "\n",
    "# Calculer le coefficient de corrélation de Pearson\n",
    "correlation_coefficient = np.corrcoef(cos_valeurs, sin_valeurs)[0, 1]\n",
    "\n",
    "print(\"Coefficient de corrélation de Pearson entre cosinus et sinus :\", correlation_coefficient)\n"
   ]
  },
  {
   "cell_type": "markdown",
   "metadata": {},
   "source": [
    "mesurer la corrélation entre deux données distribuées de façon gaussienne avec une moyenne et une variance différentes (jouer avec les paramètres)"
   ]
  },
  {
   "cell_type": "code",
   "execution_count": 22,
   "metadata": {},
   "outputs": [
    {
     "name": "stdout",
     "output_type": "stream",
     "text": [
      "Coefficient de corrélation de Pearson entre les données 1 et 2 : 0.11172919881894851\n"
     ]
    }
   ],
   "source": [
    "import numpy as np\n",
    "\n",
    "# Deux ensembles de données gaussiennes avec des moyennes et des variances différentes\n",
    "np.random.seed(0)  # Pour assurer la reproductibilité des résultats\n",
    "\n",
    "mean1 = 5            # Moyenne du premier ensemble de données\n",
    "variance1 = 1        # Variance du premier ensemble de données\n",
    "data1 = np.random.normal(mean1, np.sqrt(variance1), 100)  # 100 échantillons\n",
    "\n",
    "mean2 = 10           # Moyenne du deuxième ensemble de données\n",
    "variance2 = 2        # Variance du deuxième ensemble de données\n",
    "data2 = np.random.normal(mean2, np.sqrt(variance2), 100)  # 100 échantillons\n",
    "\n",
    "# Calculer le coefficient de corrélation de Pearson\n",
    "correlation_coefficient = np.corrcoef(data1, data2)[0, 1]\n",
    "\n",
    "print(\"Coefficient de corrélation de Pearson entre les données 1 et 2 :\", correlation_coefficient)\n"
   ]
  }
 ],
 "metadata": {
  "kernelspec": {
   "display_name": "base",
   "language": "python",
   "name": "python3"
  },
  "language_info": {
   "codemirror_mode": {
    "name": "ipython",
    "version": 3
   },
   "file_extension": ".py",
   "mimetype": "text/x-python",
   "name": "python",
   "nbconvert_exporter": "python",
   "pygments_lexer": "ipython3",
   "version": "3.11.4"
  },
  "orig_nbformat": 4
 },
 "nbformat": 4,
 "nbformat_minor": 2
}
