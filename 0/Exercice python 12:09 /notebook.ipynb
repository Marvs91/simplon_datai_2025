{
 "cells": [
  {
   "cell_type": "markdown",
   "metadata": {},
   "source": [
    "# Écrivez une fonction qui prend une chaîne de caractères en entrée et renvoie le nombre de mots dans cette chaîne (un mot est séparé par un espace)\n"
   ]
  },
  {
   "cell_type": "code",
   "execution_count": 10,
   "metadata": {},
   "outputs": [
    {
     "name": "stdout",
     "output_type": "stream",
     "text": [
      "toto\n"
     ]
    }
   ],
   "source": [
    "print(\"toto\")"
   ]
  },
  {
   "cell_type": "code",
   "execution_count": 11,
   "metadata": {},
   "outputs": [],
   "source": [
    "\n",
    "# Saisir une phrase \n",
    "phrase = (\"saisir une phrase\")\n"
   ]
  },
  {
   "cell_type": "code",
   "execution_count": 12,
   "metadata": {},
   "outputs": [
    {
     "name": "stdout",
     "output_type": "stream",
     "text": [
      "3\n"
     ]
    }
   ],
   "source": [
    "\n",
    "# Séparer le nombre de mots dans cette chaine \n",
    "phrase = \"saisir une phrase\"\n",
    "mots = phrase.split()\n",
    "\n",
    "# Renvoyer le nombre de mots de la châine \n",
    "mots \n",
    "print(len(mots))\n"
   ]
  },
  {
   "cell_type": "code",
   "execution_count": 13,
   "metadata": {},
   "outputs": [
    {
     "name": "stdout",
     "output_type": "stream",
     "text": [
      "SAISIR UNE PHRASE\n"
     ]
    }
   ],
   "source": [
    "# Écrivez une fonction qui prend une chaîne de caractères en entrée et renvoie une nouvelle chaîne où chaque mot est en majuscules.\n",
    "\n",
    "# Chaine de caractère en entrée \n",
    "phrase = (\"Saisir une phrase\")\n",
    "\n",
    "# Nouvelle chaine en majuscule \n",
    "\n",
    "new_maj = phrase.upper()\n",
    "\n",
    "print(new_maj)"
   ]
  },
  {
   "cell_type": "code",
   "execution_count": 18,
   "metadata": {},
   "outputs": [
    {
     "name": "stdout",
     "output_type": "stream",
     "text": [
      "SAISIR UNE PHRASE\n"
     ]
    }
   ],
   "source": [
    "# Écrivez une fonction qui prend une chaîne de caractères en entrée et renvoie une nouvelle chaîne où chaque mot est en majuscules.\n",
    "\n",
    "# Nouvelle chaine en majuscule \n",
    "def func(phrase):\n",
    "    new_maj = phrase.upper()\n",
    "    return new_maj\n",
    "\n",
    "# Chaine de caractère en entrée \n",
    "phrase = (\"Saisir une phrase\")\n",
    "\n",
    "# Afficher nouvelle chaine \n",
    "print(func(phrase))\n"
   ]
  }
 ],
 "metadata": {
  "kernelspec": {
   "display_name": "base",
   "language": "python",
   "name": "python3"
  },
  "language_info": {
   "codemirror_mode": {
    "name": "ipython",
    "version": 3
   },
   "file_extension": ".py",
   "mimetype": "text/x-python",
   "name": "python",
   "nbconvert_exporter": "python",
   "pygments_lexer": "ipython3",
   "version": "3.11.4"
  },
  "orig_nbformat": 4
 },
 "nbformat": 4,
 "nbformat_minor": 2
}
